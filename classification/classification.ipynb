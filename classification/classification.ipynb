{
 "cells": [
  {
   "cell_type": "code",
   "execution_count": 106,
   "metadata": {
    "collapsed": true
   },
   "outputs": [],
   "source": [
    "import numpy as np\n",
    "import scipy.io as sio\n",
    "import sklearn.svm as svm\n",
    "import sklearn.preprocessing as pp\n",
    "import matplotlib.pyplot as plt\n",
    "\n",
    "clf = svm.SVC(gamma='scale')\n"
   ]
  },
  {
   "cell_type": "code",
   "execution_count": 211,
   "metadata": {},
   "outputs": [
    {
     "data": {
      "image/png": "[encoded data removed]",
      "text/plain": [
       "<Figure size 432x288 with 30 Axes>"
      ]
     },
     "metadata": {},
     "output_type": "display_data"
    }
   ],
   "source": [
    "# Load data\n",
    "mat_content = sio.loadmat(\"classification/cancerWTrain.mat\")\n",
    "sorted(mat_content.keys())\n",
    "cancerTestX = mat_content[\"cancerTestX\"]\n",
    "cancerTrainX = mat_content[\"cancerTrainX\"]\n",
    "cancerTrainY = mat_content[\"cancerTrainY\"]\n",
    "\n",
    "# Plot each feature in relation to classification\n",
    "f, axarr = plt.subplots(5, 6)\n",
    "for i in range(0, 6):\n",
    "    for j in range(0, 5):\n",
    "        axarr[j, i].scatter(cancerTrainX[(i+1)*(j+1)-1], cancerTrainY)\n",
    "        \n",
    "# Reshape data for fitting\n",
    "cancerTestX = np.reshape(mat_content[\"cancerTestX\"], (-169, 30))\n",
    "cancerTrainX = np.reshape(mat_content[\"cancerTrainX\"], (-400, 30))\n",
    "cancerTrainY = np.reshape(mat_content[\"cancerTrainY\"], (-1, 1))\n",
    "cancerTrainY = np.ravel(cancerTrainY)\n"
   ]
  },
  {
   "cell_type": "code",
   "execution_count": 146,
   "metadata": {},
   "outputs": [
    {
     "data": {
      "text/plain": [
       "array([0, 0, 0, 0, 0, 0, 0, 0, 0, 0, 0, 0, 0, 0, 0, 0, 0, 0, 0, 0, 0, 0,\n       0, 0, 0, 0, 0, 0, 0, 0, 0, 0, 0, 0, 0, 0, 0, 0, 0, 0, 0, 0, 0, 0,\n       0, 0, 0, 0, 0, 0, 0, 0, 0, 0, 0, 0, 0, 0, 0, 0, 0, 0, 0, 0, 0, 0,\n       0, 0, 0, 0, 0, 0, 0, 0, 0, 0, 0, 0, 0, 0, 0, 0, 0, 0, 0, 0, 0, 0,\n       0, 0, 0, 0, 0, 0, 0, 0, 0, 0, 0, 0, 0, 0, 0, 0, 0, 0, 0, 0, 0, 0,\n       0, 0, 0, 0, 0, 0, 0, 0, 0, 0, 0, 0, 0, 0, 0, 0, 0, 0, 0, 0, 0, 0,\n       0, 0, 0, 0, 0, 0, 0, 0, 0, 0, 0, 0, 0, 0, 0, 0, 0, 0, 0, 0, 0, 0,\n       0, 0, 0, 0, 0, 0, 0, 0, 0, 0, 0, 0, 0, 0, 0], dtype=uint8)"
      ]
     },
     "execution_count": 146,
     "metadata": {},
     "output_type": "execute_result"
    }
   ],
   "source": [
    "clf.fit(cancerTrainX, cancerTrainY)\n",
    "clf.predict(cancerTestX)\n"
   ]
  },
  {
   "cell_type": "code",
   "execution_count": null,
   "metadata": {},
   "outputs": [],
   "source": []
  }
 ],
 "metadata": {
  "kernelspec": {
   "display_name": "Python 2",
   "language": "python",
   "name": "python2"
  },
  "language_info": {
   "codemirror_mode": {
    "name": "ipython",
    "version": 2
   },
   "file_extension": ".py",
   "mimetype": "text/x-python",
   "name": "python",
   "nbconvert_exporter": "python",
   "pygments_lexer": "ipython2",
   "version": "2.7.6"
  }
 },
 "nbformat": 4,
 "nbformat_minor": 0
}
